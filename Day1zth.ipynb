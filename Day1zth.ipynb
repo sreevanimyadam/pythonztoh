{
  "nbformat": 4,
  "nbformat_minor": 0,
  "metadata": {
    "colab": {
      "name": "Day1zth.ipynb",
      "provenance": [],
      "authorship_tag": "ABX9TyO79ycr8cs6h4X7HclzV+6X",
      "include_colab_link": true
    },
    "kernelspec": {
      "name": "python3",
      "display_name": "Python 3"
    },
    "language_info": {
      "name": "python"
    }
  },
  "cells": [
    {
      "cell_type": "markdown",
      "metadata": {
        "id": "view-in-github",
        "colab_type": "text"
      },
      "source": [
        "<a href=\"https://colab.research.google.com/github/sreevanimyadam/pythonztoh/blob/main/Day1zth.ipynb\" target=\"_parent\"><img src=\"https://colab.research.google.com/assets/colab-badge.svg\" alt=\"Open In Colab\"/></a>"
      ]
    },
    {
      "cell_type": "code",
      "metadata": {
        "id": "iI1i8gsa1u72"
      },
      "source": [
        "C= [int(i) for i in input('enter the numbers to obtain decreasing order').split()]\n",
        "C.sort()\n",
        "C.reverse()\n",
        "print(C)"
      ],
      "execution_count": null,
      "outputs": []
    }
  ]
}